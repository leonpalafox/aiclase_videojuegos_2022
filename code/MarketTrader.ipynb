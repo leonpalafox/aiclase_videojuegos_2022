{
  "nbformat": 4,
  "nbformat_minor": 0,
  "metadata": {
    "colab": {
      "name": "MarketTrader.ipynb",
      "provenance": [],
      "authorship_tag": "ABX9TyNfpEy+Y4aSbMJthYUB2cjm",
      "include_colab_link": true
    },
    "kernelspec": {
      "name": "python3",
      "display_name": "Python 3"
    }
  },
  "cells": [
    {
      "cell_type": "markdown",
      "metadata": {
        "id": "view-in-github",
        "colab_type": "text"
      },
      "source": [
        "<a href=\"https://colab.research.google.com/github/leonpalafox/aiclase_videojuegos/blob/master/MarketTrader.ipynb\" target=\"_parent\"><img src=\"https://colab.research.google.com/assets/colab-badge.svg\" alt=\"Open In Colab\"/></a>"
      ]
    },
    {
      "cell_type": "code",
      "metadata": {
        "id": "5pxJwj-UZsXW",
        "colab_type": "code",
        "colab": {}
      },
      "source": [
        "import pandas as pd\n",
        "import datetime\n",
        "import pandas_datareader.data as web\n",
        "from pandas import Series, DataFrame"
      ],
      "execution_count": 0,
      "outputs": []
    },
    {
      "cell_type": "code",
      "metadata": {
        "id": "jo7Pb1sGZv4W",
        "colab_type": "code",
        "colab": {}
      },
      "source": [
        "def trading_action_bot(data):\n",
        "  val = data.pct_change().mean()\n",
        "  if val < 0:\n",
        "    return 'sell'\n",
        "  if val > 0:\n",
        "    return 'buy'\n",
        "  else:\n",
        "    return 'null'"
      ],
      "execution_count": 0,
      "outputs": []
    },
    {
      "cell_type": "code",
      "metadata": {
        "id": "9a1QY8lrcFP2",
        "colab_type": "code",
        "colab": {}
      },
      "source": [
        "\n",
        "start = datetime.datetime(2020, 1, 1)\n",
        "end = datetime.datetime(2020, 2, 1)\n",
        "\n",
        "df = web.DataReader(\"AAPL\", 'yahoo', start, end)"
      ],
      "execution_count": 0,
      "outputs": []
    },
    {
      "cell_type": "code",
      "metadata": {
        "id": "k8lIZs-GcZ0f",
        "colab_type": "code",
        "colab": {}
      },
      "source": [
        "df.head()\n",
        "data = df['Close']"
      ],
      "execution_count": 0,
      "outputs": []
    },
    {
      "cell_type": "code",
      "metadata": {
        "id": "k1JYDNz_cmGy",
        "colab_type": "code",
        "colab": {
          "base_uri": "https://localhost:8080/",
          "height": 34
        },
        "outputId": "03fd675b-523b-47af-bd75-e4c5b19230c9"
      },
      "source": [
        "print(len(data))"
      ],
      "execution_count": 46,
      "outputs": [
        {
          "output_type": "stream",
          "text": [
            "21\n"
          ],
          "name": "stdout"
        }
      ]
    },
    {
      "cell_type": "code",
      "metadata": {
        "id": "t2qDLy8MbGJX",
        "colab_type": "code",
        "colab": {
          "base_uri": "https://localhost:8080/",
          "height": 1000
        },
        "outputId": "8ca4f9f0-f637-4779-a93e-e97af357b560"
      },
      "source": [
        "wallet = 1000\n",
        "portfolio = 0\n",
        "start_idx = 0\n",
        "for idx in range(15):\n",
        "  action = trading_action(data[start_idx:start_idx+3])\n",
        "  print(action)\n",
        "  if action == 'buy':\n",
        "    if wallet>data[start_idx+6]:\n",
        "      wallet-=data[start_idx+6]\n",
        "      portfolio+=1\n",
        "  if action =='sell':\n",
        "    wallet+=data[start_idx+6]\n",
        "    portfolio-=1\n",
        "  if action =='null':\n",
        "    wallet+=data[start_idx+6]\n",
        "    portfolio-=1\n",
        "  print('My portfolio has '+str(portfolio*data[start_idx+6]))\n",
        "  print('My wallet has '+str(wallet))\n",
        "  print('My worth is: '+str(wallet+portfolio*data[start_idx+6]))\n",
        "  start_idx+=1"
      ],
      "execution_count": 54,
      "outputs": [
        {
          "output_type": "stream",
          "text": [
            "-0.0008768951503363431\n",
            "sell\n",
            "My portfolio has -310.3299865722656\n",
            "My wallet has 1310.3299865722656\n",
            "My worth is: 1000.0\n",
            "0.0016325995910217994\n",
            "buy\n",
            "My portfolio has 0.0\n",
            "My wallet has 993.3699951171875\n",
            "My worth is: 993.3699951171875\n",
            "0.005691621117163259\n",
            "buy\n",
            "My portfolio has 312.67999267578125\n",
            "My wallet has 680.6900024414062\n",
            "My worth is: 993.3699951171875\n",
            "0.01866355112401752\n",
            "buy\n",
            "My portfolio has 622.6799926757812\n",
            "My wallet has 369.3500061035156\n",
            "My worth is: 992.0299987792969\n",
            "0.011750758825004537\n",
            "buy\n",
            "My portfolio has 945.719970703125\n",
            "My wallet has 54.110015869140625\n",
            "My worth is: 999.8299865722656\n",
            "0.011812537203418239\n",
            "buy\n",
            "My portfolio has 956.1900329589844\n",
            "My wallet has 54.110015869140625\n",
            "My worth is: 1010.300048828125\n",
            "0.003930546524748446\n",
            "buy\n",
            "My portfolio has 949.7100219726562\n",
            "My wallet has 54.110015869140625\n",
            "My worth is: 1003.8200378417969\n",
            "-0.008894398803046322\n",
            "sell\n",
            "My portfolio has 635.4000244140625\n",
            "My wallet has 371.8100280761719\n",
            "My worth is: 1007.2100524902344\n",
            "0.0041204794915120635\n",
            "buy\n",
            "My portfolio has 957.6900329589844\n",
            "My wallet has 52.58001708984375\n",
            "My worth is: 1010.2700500488281\n",
            "0.011798737581138918\n",
            "buy\n",
            "My portfolio has 954.9299926757812\n",
            "My wallet has 52.58001708984375\n",
            "My worth is: 1007.510009765625\n",
            "0.002147044597856085\n",
            "buy\n",
            "My portfolio has 926.8500366210938\n",
            "My wallet has 52.58001708984375\n",
            "My worth is: 979.4300537109375\n",
            "-0.0016036905135279333\n",
            "sell\n",
            "My portfolio has 635.3800048828125\n",
            "My wallet has 370.27001953125\n",
            "My worth is: 1005.6500244140625\n",
            "0.004192693014788751\n",
            "buy\n",
            "My portfolio has 973.0199890136719\n",
            "My wallet has 45.930023193359375\n",
            "My worth is: 1018.9500122070312\n",
            "0.0009669416881720183\n",
            "buy\n",
            "My portfolio has 971.6099853515625\n",
            "My wallet has 45.930023193359375\n",
            "My worth is: 1017.5400085449219\n",
            "-0.016143613774206367\n",
            "sell\n",
            "My portfolio has 619.02001953125\n",
            "My wallet has 355.4400329589844\n",
            "My worth is: 974.4600524902344\n"
          ],
          "name": "stdout"
        }
      ]
    },
    {
      "cell_type": "code",
      "metadata": {
        "id": "bzlYLFfSeAni",
        "colab_type": "code",
        "colab": {
          "base_uri": "https://localhost:8080/",
          "height": 34
        },
        "outputId": "b38378ff-63dd-4c6f-868d-d4f5f7f9cb5d"
      },
      "source": [
        "data[start_idx+6]"
      ],
      "execution_count": 31,
      "outputs": [
        {
          "output_type": "execute_result",
          "data": {
            "text/plain": [
              "318.7300109863281"
            ]
          },
          "metadata": {
            "tags": []
          },
          "execution_count": 31
        }
      ]
    }
  ]
}